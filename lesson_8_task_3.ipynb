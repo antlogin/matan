{
 "cells": [
  {
   "cell_type": "code",
   "execution_count": 10,
   "id": "2c2d3e49",
   "metadata": {},
   "outputs": [
    {
     "name": "stdout",
     "output_type": "stream",
     "text": [
      "1.273302064528599 1.6620391224277693\n"
     ]
    }
   ],
   "source": [
    "from scipy.optimize import fsolve, broyden2\n",
    "import math\n",
    "\n",
    "def equations(p):\n",
    "    x, y = p\n",
    "    # Запись системы уравнения вида x+y=2, x-y=0\n",
    "    return (pow(x,2)-pow(y,2)+3*x*pow(y,3)-2*pow(x,2)*pow(y,2)+2*x-3*y-5, 3*pow(y,3)-2*pow(x,2)+2*pow(x,3)*y-5*pow(x,2)*pow(y,2)+5)\n",
    "\n",
    "# Численное решение системы уравнений\n",
    "x, y =  fsolve(equations, (10, 10))\n",
    "\n",
    "print (x, y)"
   ]
  },
  {
   "cell_type": "markdown",
   "id": "07fdbbef",
   "metadata": {},
   "source": [
    "x1=1.273302064528599\n",
    "y1=1.6620391224277693"
   ]
  }
 ],
 "metadata": {
  "kernelspec": {
   "display_name": "Python 3",
   "language": "python",
   "name": "python3"
  },
  "language_info": {
   "codemirror_mode": {
    "name": "ipython",
    "version": 3
   },
   "file_extension": ".py",
   "mimetype": "text/x-python",
   "name": "python",
   "nbconvert_exporter": "python",
   "pygments_lexer": "ipython3",
   "version": "3.8.8"
  }
 },
 "nbformat": 4,
 "nbformat_minor": 5
}
